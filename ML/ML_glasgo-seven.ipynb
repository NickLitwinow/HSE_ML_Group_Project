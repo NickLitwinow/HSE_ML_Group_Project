{
 "cells": [
  {
   "cell_type": "markdown",
   "id": "07d49905",
   "metadata": {},
   "source": [
    "### Антипов Д. С."
   ]
  },
  {
   "cell_type": "code",
   "execution_count": 9,
   "id": "initial_id",
   "metadata": {
    "collapsed": true
   },
   "outputs": [],
   "source": [
    "import pandas as pd\n",
    "from sklearn.model_selection import train_test_split\n",
    "from sklearn.neighbors import KNeighborsClassifier\n",
    "from sklearn.metrics import accuracy_score, classification_report, roc_auc_score"
   ]
  },
  {
   "cell_type": "code",
   "execution_count": 10,
   "id": "f842db6a",
   "metadata": {},
   "outputs": [],
   "source": [
    "# Загрузка датасета\n",
    "data = pd.read_csv('../test.csv')\n",
    "\n",
    "X = data.drop(columns=[\"is_canceled\"])\n",
    "y = data[\"is_canceled\"]"
   ]
  },
  {
   "cell_type": "markdown",
   "id": "a03ee415",
   "metadata": {},
   "source": [
    "### PCA"
   ]
  },
  {
   "cell_type": "code",
   "execution_count": 11,
   "id": "fd516c56",
   "metadata": {},
   "outputs": [],
   "source": [
    "from sklearn.model_selection import train_test_split\n",
    "from sklearn.decomposition import PCA\n",
    "from sklearn.preprocessing import StandardScaler\n",
    "\n",
    "RANDOM_SEED = 47\n",
    "\n",
    "X_train, X_valid, y_train, y_valid = train_test_split(X, y, test_size=0.2, random_state=RANDOM_SEED)\n",
    "\n",
    "pca = PCA(n_components=X.shape[1])\n",
    "principal_components = pca.fit_transform(X)\n",
    "\n",
    "data = pd.DataFrame(data=principal_components)"
   ]
  },
  {
   "cell_type": "markdown",
   "id": "7dcf15a8",
   "metadata": {},
   "source": [
    "### KNN"
   ]
  },
  {
   "cell_type": "code",
   "execution_count": 12,
   "id": "6adda0cc",
   "metadata": {},
   "outputs": [
    {
     "name": "stdout",
     "output_type": "stream",
     "text": [
      "Accuracy: 0.8206391875746715\n",
      "\n",
      "Classification Report:\n",
      "               precision    recall  f1-score   support\n",
      "\n",
      "           0       0.84      0.92      0.88      9438\n",
      "           1       0.76      0.58      0.66      3954\n",
      "\n",
      "    accuracy                           0.82     13392\n",
      "   macro avg       0.80      0.75      0.77     13392\n",
      "weighted avg       0.81      0.82      0.81     13392\n",
      "\n",
      "ROC_AUC:  0.8488391829197457\n"
     ]
    }
   ],
   "source": [
    "# Предсказание is_canceled\n",
    "\n",
    "# Разделение данных на обучающую и тестовую выборки\n",
    "X_train, X_test, y_train, y_test = train_test_split(X, y, test_size=0.3, random_state=3003)\n",
    "\n",
    "# Создание и обучение модели KNN\n",
    "knn = KNeighborsClassifier(n_neighbors=12, weights='distance')\n",
    "knn.fit(X_train, y_train)\n",
    "\n",
    "# Предсказание на тестовых данных\n",
    "y_pred = knn.predict(X_test)\n",
    "y_pred_proba = knn.predict_proba(X_test)[:, 1]\n",
    "\n",
    "# Оценка модели\n",
    "print(\"Accuracy:\", accuracy_score(y_test, y_pred))\n",
    "print(\"\\nClassification Report:\\n\", classification_report(y_test, y_pred))\n",
    "print(\"ROC_AUC: \", roc_auc_score(y_test, y_pred_proba))"
   ]
  }
 ],
 "metadata": {
  "kernelspec": {
   "display_name": "Python 3",
   "language": "python",
   "name": "python3"
  },
  "language_info": {
   "codemirror_mode": {
    "name": "ipython",
    "version": 3
   },
   "file_extension": ".py",
   "mimetype": "text/x-python",
   "name": "python",
   "nbconvert_exporter": "python",
   "pygments_lexer": "ipython3",
   "version": "3.13.1"
  }
 },
 "nbformat": 4,
 "nbformat_minor": 5
}
