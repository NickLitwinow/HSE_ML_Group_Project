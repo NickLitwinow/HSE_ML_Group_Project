{
 "cells": [
  {
   "cell_type": "markdown",
   "id": "07d49905",
   "metadata": {},
   "source": [
    "### Антипов Д. С. - KNN"
   ]
  },
  {
   "cell_type": "code",
   "execution_count": null,
   "id": "initial_id",
   "metadata": {
    "collapsed": true
   },
   "outputs": [],
   "source": [
    "import pandas as pd\n",
    "from sklearn.model_selection import train_test_split\n",
    "from sklearn.neighbors import KNeighborsClassifier\n",
    "from sklearn.metrics import accuracy_score, classification_report\n",
    "from sklearn.preprocessing import OneHotEncoder\n",
    "import numpy as np"
   ]
  },
  {
   "cell_type": "code",
   "execution_count": null,
   "id": "f842db6a",
   "metadata": {},
   "outputs": [],
   "source": [
    "# Загрузка датасета\n",
    "_data = pd.read_csv('../train_final.csv')\n",
    "\n",
    "cols = [\n",
    "\t'meal',\n",
    "\t'country',\n",
    "\t'market_segment',\n",
    "\t'distribution_channel',\n",
    "\t'required_car_parking_spaces'\n",
    "]\n",
    "\n",
    "_data = _data[cols].copy()"
   ]
  },
  {
   "cell_type": "code",
   "execution_count": null,
   "id": "02aad763",
   "metadata": {},
   "outputs": [],
   "source": [
    "for col_name in cols:\n",
    "\tx = _data[col_name].unique().tolist()\n",
    "\tprint(col_name, len(x), x)"
   ]
  },
  {
   "cell_type": "code",
   "execution_count": null,
   "id": "a57639f0",
   "metadata": {},
   "outputs": [],
   "source": [
    "_data.isnull().sum()"
   ]
  },
  {
   "cell_type": "code",
   "execution_count": null,
   "id": "dc3e4449",
   "metadata": {},
   "outputs": [],
   "source": [
    "data = _data.copy()\n",
    "\n",
    "# Признак \"нужно ли парковочное место\"\n",
    "data['need_parking'] = data['required_car_parking_spaces'].apply(lambda x: 1 if x > 0 else 0)\n",
    "\n",
    "# Признак \"нужно ли питание\"\n",
    "meal_map = {\n",
    "\t'SC': 0,\n",
    "\t'BB': 1,\n",
    "\t'HB': 2,\n",
    "\t'FB': 3,\n",
    "\t'Undefined': 0\n",
    "}\n",
    "data['need_meal'] = data['meal'].map(meal_map)\n",
    "\n",
    "# Признак \"полный пансион\"\n",
    "country_freq = data['country'].value_counts(normalize=True)\n",
    "data['country_frequency'] = data['country'].map(country_freq)\n",
    "\n",
    "# Признак \"отношение канала бронирования и сегмента рынка\"\n",
    "data['channel_segment'] = data['distribution_channel'] + '_' + data['market_segment']\n",
    "\n",
    "top_combinations = data['channel_segment'].value_counts().head(15).index\n",
    "data['channel_segment'] = data['channel_segment'].apply(lambda x: x if x in top_combinations else 'Other')\n",
    "\n",
    "encoder = OneHotEncoder(sparse_output=False)\n",
    "encoded = encoder.fit_transform(data[['channel_segment']])\n",
    "encoded_cols = encoder.get_feature_names_out([\"channel_segment\"])\n",
    "encoded_df = pd.DataFrame(encoded, columns=encoded_cols)\n",
    "data = pd.concat([data, encoded_df], axis=1)\n",
    "data.drop('channel_segment', axis=1, inplace=True)\n",
    "\n",
    "# Признак \"market_segment\" но варианты с наименьшими появлениями обобщены в 'Other'\n",
    "top_market_segment = data['market_segment'].value_counts().head(3).index\n",
    "data['market_segment_knn'] = data['market_segment'].apply(lambda x: x if x in top_market_segment else 'Other')\n",
    "\n",
    "data.head(10)"
   ]
  },
  {
   "cell_type": "code",
   "execution_count": null,
   "id": "6adda0cc",
   "metadata": {},
   "outputs": [],
   "source": [
    "# Предсказание market_segment\n",
    "\n",
    "y = data.iloc[:, -1]\t# Целевая переменная\n",
    "X = data.iloc[:, 5:-1]\t# Признаки (все столбцы кроме Целевая)\n",
    "\n",
    "# Разделение данных на обучающую и тестовую выборки\n",
    "X_train, X_test, y_train, y_test = train_test_split(X, y, test_size=0.3, random_state=3003)\n",
    "\n",
    "# Создание и обучение модели KNN\n",
    "knn = KNeighborsClassifier(n_neighbors=12, weights='distance')\n",
    "knn.fit(X_train, y_train)\n",
    "\n",
    "# Предсказание на тестовых данных\n",
    "y_pred = knn.predict(X_test)\n",
    "\n",
    "# Оценка модели\n",
    "print(\"Accuracy:\", accuracy_score(y_test, y_pred))\n",
    "print(\"\\nClassification Report:\\n\", classification_report(y_test, y_pred))"
   ]
  }
 ],
 "metadata": {
  "kernelspec": {
   "display_name": "Python 3",
   "language": "python",
   "name": "python3"
  },
  "language_info": {
   "codemirror_mode": {
    "name": "ipython",
    "version": 3
   },
   "file_extension": ".py",
   "mimetype": "text/x-python",
   "name": "python",
   "nbconvert_exporter": "python",
   "pygments_lexer": "ipython3",
   "version": "3.13.1"
  }
 },
 "nbformat": 4,
 "nbformat_minor": 5
}
