{
 "cells": [
  {
   "metadata": {
    "ExecuteTime": {
     "end_time": "2025-06-13T17:13:58.350666Z",
     "start_time": "2025-06-13T17:13:58.035013Z"
    }
   },
   "cell_type": "code",
   "source": [
    "import pandas as pd\n",
    "import numpy as np\n",
    "\n",
    "df = pd.read_csv('./train_final.csv')"
   ],
   "id": "43ffc2251706569e",
   "outputs": [],
   "execution_count": 1
  },
  {
   "metadata": {},
   "cell_type": "markdown",
   "source": "### Литвинов Н.А.",
   "id": "92f5b08e9834626"
  },
  {
   "cell_type": "code",
   "id": "initial_id",
   "metadata": {
    "collapsed": true,
    "ExecuteTime": {
     "end_time": "2025-06-13T17:14:06.946772Z",
     "start_time": "2025-06-13T17:14:06.942503Z"
    }
   },
   "source": [
    "cols = ['stays_in_weekend_nights', 'stays_in_week_nights', 'adults', 'children', 'babies', 'total_of_special_requests']\n",
    "df_2 = df[cols].copy()"
   ],
   "outputs": [],
   "execution_count": 2
  },
  {
   "metadata": {
    "ExecuteTime": {
     "end_time": "2025-06-13T17:14:13.813474Z",
     "start_time": "2025-06-13T17:14:13.806394Z"
    }
   },
   "cell_type": "code",
   "source": "df_2.head()",
   "id": "6354651270f3908a",
   "outputs": [
    {
     "data": {
      "text/plain": [
       "   stays_in_weekend_nights  stays_in_week_nights  adults  children  babies  \\\n",
       "0                        0                     2       2       0.0       0   \n",
       "1                        1                     2       2       0.0       0   \n",
       "2                        1                     5       2       2.0       0   \n",
       "3                        2                     0       2       0.0       0   \n",
       "4                        2                     4       2       0.0       0   \n",
       "\n",
       "   total_of_special_requests  \n",
       "0                          0  \n",
       "1                          2  \n",
       "2                          3  \n",
       "3                          0  \n",
       "4                          0  "
      ],
      "text/html": [
       "<div>\n",
       "<style scoped>\n",
       "    .dataframe tbody tr th:only-of-type {\n",
       "        vertical-align: middle;\n",
       "    }\n",
       "\n",
       "    .dataframe tbody tr th {\n",
       "        vertical-align: top;\n",
       "    }\n",
       "\n",
       "    .dataframe thead th {\n",
       "        text-align: right;\n",
       "    }\n",
       "</style>\n",
       "<table border=\"1\" class=\"dataframe\">\n",
       "  <thead>\n",
       "    <tr style=\"text-align: right;\">\n",
       "      <th></th>\n",
       "      <th>stays_in_weekend_nights</th>\n",
       "      <th>stays_in_week_nights</th>\n",
       "      <th>adults</th>\n",
       "      <th>children</th>\n",
       "      <th>babies</th>\n",
       "      <th>total_of_special_requests</th>\n",
       "    </tr>\n",
       "  </thead>\n",
       "  <tbody>\n",
       "    <tr>\n",
       "      <th>0</th>\n",
       "      <td>0</td>\n",
       "      <td>2</td>\n",
       "      <td>2</td>\n",
       "      <td>0.0</td>\n",
       "      <td>0</td>\n",
       "      <td>0</td>\n",
       "    </tr>\n",
       "    <tr>\n",
       "      <th>1</th>\n",
       "      <td>1</td>\n",
       "      <td>2</td>\n",
       "      <td>2</td>\n",
       "      <td>0.0</td>\n",
       "      <td>0</td>\n",
       "      <td>2</td>\n",
       "    </tr>\n",
       "    <tr>\n",
       "      <th>2</th>\n",
       "      <td>1</td>\n",
       "      <td>5</td>\n",
       "      <td>2</td>\n",
       "      <td>2.0</td>\n",
       "      <td>0</td>\n",
       "      <td>3</td>\n",
       "    </tr>\n",
       "    <tr>\n",
       "      <th>3</th>\n",
       "      <td>2</td>\n",
       "      <td>0</td>\n",
       "      <td>2</td>\n",
       "      <td>0.0</td>\n",
       "      <td>0</td>\n",
       "      <td>0</td>\n",
       "    </tr>\n",
       "    <tr>\n",
       "      <th>4</th>\n",
       "      <td>2</td>\n",
       "      <td>4</td>\n",
       "      <td>2</td>\n",
       "      <td>0.0</td>\n",
       "      <td>0</td>\n",
       "      <td>0</td>\n",
       "    </tr>\n",
       "  </tbody>\n",
       "</table>\n",
       "</div>"
      ]
     },
     "execution_count": 3,
     "metadata": {},
     "output_type": "execute_result"
    }
   ],
   "execution_count": 3
  },
  {
   "metadata": {
    "ExecuteTime": {
     "end_time": "2025-06-13T17:14:20.875741Z",
     "start_time": "2025-06-13T17:14:20.863263Z"
    }
   },
   "cell_type": "code",
   "source": "df_2.describe()",
   "id": "82fc938fe9bbd47f",
   "outputs": [
    {
     "data": {
      "text/plain": [
       "       stays_in_weekend_nights  stays_in_week_nights        adults  \\\n",
       "count             44638.000000          44638.000000  44638.000000   \n",
       "mean                  0.931516              2.507303      1.852883   \n",
       "std                   1.002021              1.928111      0.578898   \n",
       "min                   0.000000              0.000000      0.000000   \n",
       "25%                   0.000000              1.000000      2.000000   \n",
       "50%                   1.000000              2.000000      2.000000   \n",
       "75%                   2.000000              3.000000      2.000000   \n",
       "max                  16.000000             40.000000     55.000000   \n",
       "\n",
       "           children        babies  total_of_special_requests  \n",
       "count  44638.000000  44638.000000               44638.000000  \n",
       "mean       0.102424      0.008289                   0.603253  \n",
       "std        0.393273      0.091649                   0.803659  \n",
       "min        0.000000      0.000000                   0.000000  \n",
       "25%        0.000000      0.000000                   0.000000  \n",
       "50%        0.000000      0.000000                   0.000000  \n",
       "75%        0.000000      0.000000                   1.000000  \n",
       "max        3.000000      2.000000                   5.000000  "
      ],
      "text/html": [
       "<div>\n",
       "<style scoped>\n",
       "    .dataframe tbody tr th:only-of-type {\n",
       "        vertical-align: middle;\n",
       "    }\n",
       "\n",
       "    .dataframe tbody tr th {\n",
       "        vertical-align: top;\n",
       "    }\n",
       "\n",
       "    .dataframe thead th {\n",
       "        text-align: right;\n",
       "    }\n",
       "</style>\n",
       "<table border=\"1\" class=\"dataframe\">\n",
       "  <thead>\n",
       "    <tr style=\"text-align: right;\">\n",
       "      <th></th>\n",
       "      <th>stays_in_weekend_nights</th>\n",
       "      <th>stays_in_week_nights</th>\n",
       "      <th>adults</th>\n",
       "      <th>children</th>\n",
       "      <th>babies</th>\n",
       "      <th>total_of_special_requests</th>\n",
       "    </tr>\n",
       "  </thead>\n",
       "  <tbody>\n",
       "    <tr>\n",
       "      <th>count</th>\n",
       "      <td>44638.000000</td>\n",
       "      <td>44638.000000</td>\n",
       "      <td>44638.000000</td>\n",
       "      <td>44638.000000</td>\n",
       "      <td>44638.000000</td>\n",
       "      <td>44638.000000</td>\n",
       "    </tr>\n",
       "    <tr>\n",
       "      <th>mean</th>\n",
       "      <td>0.931516</td>\n",
       "      <td>2.507303</td>\n",
       "      <td>1.852883</td>\n",
       "      <td>0.102424</td>\n",
       "      <td>0.008289</td>\n",
       "      <td>0.603253</td>\n",
       "    </tr>\n",
       "    <tr>\n",
       "      <th>std</th>\n",
       "      <td>1.002021</td>\n",
       "      <td>1.928111</td>\n",
       "      <td>0.578898</td>\n",
       "      <td>0.393273</td>\n",
       "      <td>0.091649</td>\n",
       "      <td>0.803659</td>\n",
       "    </tr>\n",
       "    <tr>\n",
       "      <th>min</th>\n",
       "      <td>0.000000</td>\n",
       "      <td>0.000000</td>\n",
       "      <td>0.000000</td>\n",
       "      <td>0.000000</td>\n",
       "      <td>0.000000</td>\n",
       "      <td>0.000000</td>\n",
       "    </tr>\n",
       "    <tr>\n",
       "      <th>25%</th>\n",
       "      <td>0.000000</td>\n",
       "      <td>1.000000</td>\n",
       "      <td>2.000000</td>\n",
       "      <td>0.000000</td>\n",
       "      <td>0.000000</td>\n",
       "      <td>0.000000</td>\n",
       "    </tr>\n",
       "    <tr>\n",
       "      <th>50%</th>\n",
       "      <td>1.000000</td>\n",
       "      <td>2.000000</td>\n",
       "      <td>2.000000</td>\n",
       "      <td>0.000000</td>\n",
       "      <td>0.000000</td>\n",
       "      <td>0.000000</td>\n",
       "    </tr>\n",
       "    <tr>\n",
       "      <th>75%</th>\n",
       "      <td>2.000000</td>\n",
       "      <td>3.000000</td>\n",
       "      <td>2.000000</td>\n",
       "      <td>0.000000</td>\n",
       "      <td>0.000000</td>\n",
       "      <td>1.000000</td>\n",
       "    </tr>\n",
       "    <tr>\n",
       "      <th>max</th>\n",
       "      <td>16.000000</td>\n",
       "      <td>40.000000</td>\n",
       "      <td>55.000000</td>\n",
       "      <td>3.000000</td>\n",
       "      <td>2.000000</td>\n",
       "      <td>5.000000</td>\n",
       "    </tr>\n",
       "  </tbody>\n",
       "</table>\n",
       "</div>"
      ]
     },
     "execution_count": 4,
     "metadata": {},
     "output_type": "execute_result"
    }
   ],
   "execution_count": 4
  },
  {
   "metadata": {
    "ExecuteTime": {
     "end_time": "2025-06-13T17:14:30.617530Z",
     "start_time": "2025-06-13T17:14:30.613719Z"
    }
   },
   "cell_type": "code",
   "source": "df_2.isnull().sum()",
   "id": "cc0c5a196ab5bfb7",
   "outputs": [
    {
     "data": {
      "text/plain": [
       "stays_in_weekend_nights      0\n",
       "stays_in_week_nights         0\n",
       "adults                       0\n",
       "children                     0\n",
       "babies                       0\n",
       "total_of_special_requests    0\n",
       "dtype: int64"
      ]
     },
     "execution_count": 5,
     "metadata": {},
     "output_type": "execute_result"
    }
   ],
   "execution_count": 5
  },
  {
   "metadata": {},
   "cell_type": "markdown",
   "source": "##### FEATURE ENGINEERING",
   "id": "65db9813a5601087"
  },
  {
   "metadata": {
    "ExecuteTime": {
     "end_time": "2025-06-13T17:19:57.797965Z",
     "start_time": "2025-06-13T17:19:57.785545Z"
    }
   },
   "cell_type": "code",
   "source": [
    "# Сумма ночевок\n",
    "df['total_nights'] = df_2['stays_in_weekend_nights'] + df_2['stays_in_week_nights']\n",
    "df_2['total_nights'] = df_2['stays_in_weekend_nights'] + df_2['stays_in_week_nights']\n",
    "# Проживание длительностью > 7 ночей\n",
    "df['long_stay_flag'] = (df_2['total_nights'] > 7).astype(int)\n",
    "df_2['long_stay_flag'] = (df_2['total_nights'] > 7).astype(int)\n",
    "# Общее кол-во гостей\n",
    "df['total_guests'] = df_2[['adults','children','babies']].sum(axis=1)\n",
    "df_2['total_guests'] = df_2[['adults','children','babies']].sum(axis=1)\n",
    "# Плотность проживания\n",
    "df['guests_per_night'] = df_2['total_guests'] / np.where(df_2['total_nights'] == 0, np.nan, df_2['total_nights'])\n",
    "df_2['guests_per_night'] = df_2['total_guests'] / np.where(df_2['total_nights'] == 0, np.nan, df_2['total_nights'])\n",
    "# Кол-во запросов на гостя\n",
    "df['special_requests_per_guest'] = df_2['total_of_special_requests'] / df_2['total_guests']\n",
    "df_2['special_requests_per_guest'] = df_2['total_of_special_requests'] / df_2['total_guests']\n",
    "# Имеется ли special_request\n",
    "df['has_special_request'] = (df['total_of_special_requests'] > 0).astype(int)\n",
    "df_2['has_special_request'] = (df_2['total_of_special_requests'] > 0).astype(int)"
   ],
   "id": "606746b771b77352",
   "outputs": [],
   "execution_count": 10
  },
  {
   "metadata": {
    "ExecuteTime": {
     "end_time": "2025-06-13T17:19:58.821075Z",
     "start_time": "2025-06-13T17:19:58.815798Z"
    }
   },
   "cell_type": "code",
   "source": "df_2.head()",
   "id": "89c795c3acb50fa6",
   "outputs": [
    {
     "data": {
      "text/plain": [
       "   stays_in_weekend_nights  stays_in_week_nights  adults  children  babies  \\\n",
       "0                        0                     2       2       0.0       0   \n",
       "1                        1                     2       2       0.0       0   \n",
       "2                        1                     5       2       2.0       0   \n",
       "3                        2                     0       2       0.0       0   \n",
       "4                        2                     4       2       0.0       0   \n",
       "\n",
       "   total_of_special_requests  total_nights  long_stay_flag  total_guests  \\\n",
       "0                          0             2               0           2.0   \n",
       "1                          2             3               0           2.0   \n",
       "2                          3             6               0           4.0   \n",
       "3                          0             2               0           2.0   \n",
       "4                          0             6               0           2.0   \n",
       "\n",
       "   guests_per_night  special_requests_per_guest  has_special_request  \n",
       "0          1.000000                        0.00                    0  \n",
       "1          0.666667                        1.00                    1  \n",
       "2          0.666667                        0.75                    1  \n",
       "3          1.000000                        0.00                    0  \n",
       "4          0.333333                        0.00                    0  "
      ],
      "text/html": [
       "<div>\n",
       "<style scoped>\n",
       "    .dataframe tbody tr th:only-of-type {\n",
       "        vertical-align: middle;\n",
       "    }\n",
       "\n",
       "    .dataframe tbody tr th {\n",
       "        vertical-align: top;\n",
       "    }\n",
       "\n",
       "    .dataframe thead th {\n",
       "        text-align: right;\n",
       "    }\n",
       "</style>\n",
       "<table border=\"1\" class=\"dataframe\">\n",
       "  <thead>\n",
       "    <tr style=\"text-align: right;\">\n",
       "      <th></th>\n",
       "      <th>stays_in_weekend_nights</th>\n",
       "      <th>stays_in_week_nights</th>\n",
       "      <th>adults</th>\n",
       "      <th>children</th>\n",
       "      <th>babies</th>\n",
       "      <th>total_of_special_requests</th>\n",
       "      <th>total_nights</th>\n",
       "      <th>long_stay_flag</th>\n",
       "      <th>total_guests</th>\n",
       "      <th>guests_per_night</th>\n",
       "      <th>special_requests_per_guest</th>\n",
       "      <th>has_special_request</th>\n",
       "    </tr>\n",
       "  </thead>\n",
       "  <tbody>\n",
       "    <tr>\n",
       "      <th>0</th>\n",
       "      <td>0</td>\n",
       "      <td>2</td>\n",
       "      <td>2</td>\n",
       "      <td>0.0</td>\n",
       "      <td>0</td>\n",
       "      <td>0</td>\n",
       "      <td>2</td>\n",
       "      <td>0</td>\n",
       "      <td>2.0</td>\n",
       "      <td>1.000000</td>\n",
       "      <td>0.00</td>\n",
       "      <td>0</td>\n",
       "    </tr>\n",
       "    <tr>\n",
       "      <th>1</th>\n",
       "      <td>1</td>\n",
       "      <td>2</td>\n",
       "      <td>2</td>\n",
       "      <td>0.0</td>\n",
       "      <td>0</td>\n",
       "      <td>2</td>\n",
       "      <td>3</td>\n",
       "      <td>0</td>\n",
       "      <td>2.0</td>\n",
       "      <td>0.666667</td>\n",
       "      <td>1.00</td>\n",
       "      <td>1</td>\n",
       "    </tr>\n",
       "    <tr>\n",
       "      <th>2</th>\n",
       "      <td>1</td>\n",
       "      <td>5</td>\n",
       "      <td>2</td>\n",
       "      <td>2.0</td>\n",
       "      <td>0</td>\n",
       "      <td>3</td>\n",
       "      <td>6</td>\n",
       "      <td>0</td>\n",
       "      <td>4.0</td>\n",
       "      <td>0.666667</td>\n",
       "      <td>0.75</td>\n",
       "      <td>1</td>\n",
       "    </tr>\n",
       "    <tr>\n",
       "      <th>3</th>\n",
       "      <td>2</td>\n",
       "      <td>0</td>\n",
       "      <td>2</td>\n",
       "      <td>0.0</td>\n",
       "      <td>0</td>\n",
       "      <td>0</td>\n",
       "      <td>2</td>\n",
       "      <td>0</td>\n",
       "      <td>2.0</td>\n",
       "      <td>1.000000</td>\n",
       "      <td>0.00</td>\n",
       "      <td>0</td>\n",
       "    </tr>\n",
       "    <tr>\n",
       "      <th>4</th>\n",
       "      <td>2</td>\n",
       "      <td>4</td>\n",
       "      <td>2</td>\n",
       "      <td>0.0</td>\n",
       "      <td>0</td>\n",
       "      <td>0</td>\n",
       "      <td>6</td>\n",
       "      <td>0</td>\n",
       "      <td>2.0</td>\n",
       "      <td>0.333333</td>\n",
       "      <td>0.00</td>\n",
       "      <td>0</td>\n",
       "    </tr>\n",
       "  </tbody>\n",
       "</table>\n",
       "</div>"
      ]
     },
     "execution_count": 11,
     "metadata": {},
     "output_type": "execute_result"
    }
   ],
   "execution_count": 11
  },
  {
   "metadata": {
    "ExecuteTime": {
     "end_time": "2025-06-13T17:19:59.815249Z",
     "start_time": "2025-06-13T17:19:59.807645Z"
    }
   },
   "cell_type": "code",
   "source": "df_2.isnull().sum()",
   "id": "3b4a771a6492e1c9",
   "outputs": [
    {
     "data": {
      "text/plain": [
       "stays_in_weekend_nights         0\n",
       "stays_in_week_nights            0\n",
       "adults                          0\n",
       "children                        0\n",
       "babies                          0\n",
       "total_of_special_requests       0\n",
       "total_nights                    0\n",
       "long_stay_flag                  0\n",
       "total_guests                    0\n",
       "guests_per_night              290\n",
       "special_requests_per_guest     49\n",
       "has_special_request             0\n",
       "dtype: int64"
      ]
     },
     "execution_count": 12,
     "metadata": {},
     "output_type": "execute_result"
    }
   ],
   "execution_count": 12
  },
  {
   "metadata": {
    "ExecuteTime": {
     "end_time": "2025-06-13T17:20:00.778Z",
     "start_time": "2025-06-13T17:20:00.634378Z"
    }
   },
   "cell_type": "code",
   "source": "df.to_csv(\"train_final_processed_data.csv\", index=False)",
   "id": "487827062333873a",
   "outputs": [],
   "execution_count": 13
  },
  {
   "metadata": {},
   "cell_type": "code",
   "outputs": [],
   "execution_count": null,
   "source": "",
   "id": "3233ccd0aa6eb7b4"
  }
 ],
 "metadata": {
  "kernelspec": {
   "display_name": "Python 3",
   "language": "python",
   "name": "python3"
  },
  "language_info": {
   "codemirror_mode": {
    "name": "ipython",
    "version": 2
   },
   "file_extension": ".py",
   "mimetype": "text/x-python",
   "name": "python",
   "nbconvert_exporter": "python",
   "pygments_lexer": "ipython2",
   "version": "2.7.6"
  }
 },
 "nbformat": 4,
 "nbformat_minor": 5
}
