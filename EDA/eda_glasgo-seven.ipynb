{
 "cells": [
  {
   "cell_type": "markdown",
   "id": "c565e4b0",
   "metadata": {},
   "source": [
    "### Антипов Д.С."
   ]
  },
  {
   "cell_type": "code",
   "execution_count": null,
   "id": "473cddb5",
   "metadata": {},
   "outputs": [],
   "source": [
    "import pandas as pd\n",
    "import matplotlib.pyplot as plt\n",
    "import seaborn as sns\n",
    "import numpy as np"
   ]
  },
  {
   "cell_type": "code",
   "execution_count": null,
   "id": "dffc4512",
   "metadata": {},
   "outputs": [],
   "source": [
    "# Загрузка датасета\n",
    "data = pd.read_csv('../train_final.csv')\n",
    "\n",
    "cols = [\n",
    "\t'meal',\n",
    "\t'country',\n",
    "\t'market_segment',\n",
    "\t'distribution_channel',\n",
    "\t'required_car_parking_spaces'\n",
    "]"
   ]
  },
  {
   "cell_type": "code",
   "execution_count": null,
   "id": "e385203a",
   "metadata": {},
   "outputs": [],
   "source": [
    "corr = data[cols + [\"is_canceled\"]].corr(numeric_only=True)\n",
    "plt.figure(figsize=(8, 6))\n",
    "sns.heatmap(corr, annot=True, fmt=\".2f\")\n",
    "plt.show()"
   ]
  },
  {
   "cell_type": "code",
   "execution_count": null,
   "id": "027fafea",
   "metadata": {},
   "outputs": [],
   "source": [
    "for column in cols:\n",
    "\tplt.figure(figsize=(8,4))\n",
    "\t\n",
    "\tif column == 'country':\n",
    "\t\ttop_10 = data[column].value_counts().nlargest(15).index\n",
    "\t\tdata_to_plot = data[column].apply(lambda x: x if x in top_10 else 'Other')\n",
    "\t\t_order = list(top_10) + ['Other']\n",
    "\telse:\n",
    "\t\tdata_to_plot = data[column]\n",
    "\t\t_order = list(data[column])\n",
    "\t\n",
    "\tsns.countplot(x=data[column], order=_order)\n",
    "\tplt.title(f'Распределение {column}')\n",
    "\tplt.xlabel(column)\n",
    "\tplt.show()"
   ]
  }
 ],
 "metadata": {
  "kernelspec": {
   "display_name": "Python 3",
   "language": "python",
   "name": "python3"
  },
  "language_info": {
   "codemirror_mode": {
    "name": "ipython",
    "version": 3
   },
   "file_extension": ".py",
   "mimetype": "text/x-python",
   "name": "python",
   "nbconvert_exporter": "python",
   "pygments_lexer": "ipython3",
   "version": "3.13.1"
  }
 },
 "nbformat": 4,
 "nbformat_minor": 5
}
